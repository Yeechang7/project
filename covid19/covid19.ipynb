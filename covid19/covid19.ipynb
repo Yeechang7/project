{
 "cells": [
  {
   "cell_type": "code",
   "execution_count": 1,
   "id": "26df6b47",
   "metadata": {
    "ExecuteTime": {
     "end_time": "2021-12-26T09:49:06.607345Z",
     "start_time": "2021-12-26T09:49:06.569016Z"
    }
   },
   "outputs": [],
   "source": [
    "def covid19title():\n",
    "    import requests\n",
    "    url = 'https://covid-19.nchc.org.tw/api/covid19?CK=covid-19@nchc.org.tw&querydata=4001&limited=TWN'\n",
    "    res = requests.get(url)\n",
    "    date = res.json()[0]['a04']\n",
    "    total = res.json()[0]['a05']\n",
    "    today = res.json()[0]['a06']\n",
    "    return f'公告日期：{date}。\\n 確診人數為：{today}人，累計確診人數為：{total}人。'\n",
    "\n",
    "\n",
    "def covid19City():\n",
    "    import requests\n",
    "    url = 'https://covid-19.nchc.org.tw/api/covid19?CK=covid-19@nchc.org.tw&querydata=5001&limited=全部縣市'\n",
    "    res = requests.get(url)\n",
    "    date = res.json()[0]['a02']\n",
    "    tw = []\n",
    "    twCount = 0\n",
    "    others = 0\n",
    "    x = 1\n",
    "    while x == 1:\n",
    "        for i in range(0, len(res.json())):\n",
    "            if res.json()[i]['a02'] == date:\n",
    "                if res.json()[i]['a03'] == '境外移入':\n",
    "                    others += 1\n",
    "                else:\n",
    "                    twCount += 1\n",
    "                    city =res.json()[i]['a03']\n",
    "                    tw.append(city)\n",
    "            else:\n",
    "                x = 0\n",
    "                break\n",
    "        if twCount != 0:\n",
    "            return f'公告日期：{date} 本土案例：{twCount}例，位於{set(tw)}；境外移入{others}例，總計：{twCount+others}例。'\n",
    "        else:\n",
    "            return f'公告日期：{date} 今日沒有本土案例，境外移入{others}例，總計：{twCount + others}例。'\n",
    "    \n",
    "\n",
    "TW = []\n",
    "def covid19CountryCity():\n",
    "    import requests\n",
    "    TW.clear()\n",
    "    url = 'https://covid-19.nchc.org.tw/api/covid19?CK=covid-19@nchc.org.tw&querydata=5001&limited=全部縣市'\n",
    "    res = requests.get(url)\n",
    "    date = res.json()[0]['a02']\n",
    "    for i in range(0,len(res.json())):\n",
    "        if res.json()[i]['a02'] == date:\n",
    "            loc = res.json()[i]['a03']\n",
    "            locs = res.json()[i]['a04']\n",
    "            TW.append(loc)\n",
    "            TW.append(locs)\n",
    "        else:\n",
    "            break\n",
    "            \n",
    "    KEL = TW.count('基隆市') ; NTPC = TW.count('新北市') ; TPE = TW.count('台北市') ;\n",
    "    TYN = TW.count('桃園市') ; HSZC = TW.count('新竹市') ; HSZ = TW.count('新竹縣') ;\n",
    "    ZMIC = TW.count('苗栗市') ; ZMI = TW.count('苗栗縣') ; TXG = TW.count('台中市') ;\n",
    "    CHWC = TW.count('彰化市') ; CHW = TW.count('彰化縣') ; NTCC = TW.count('南投市') ;\n",
    "    NTC = TW.count('南投縣') ; YUN = TW.count('雲林縣') ; CYIC = TW.count('嘉義市') ;\n",
    "    CYI = TW.count('嘉義縣') ; TNN = TW.count('台南市') ; KHH = TW.count('高雄市') ;\n",
    "    PIF = TW.count('屏東縣') ; PIFC = TW.count('屏東市') ; ILAC = TW.count('宜蘭市') ;\n",
    "    ILA = TW.count('宜蘭縣') ; HUNC = TW.count('花蓮市') ; HUN = TW.count('花蓮縣') ;\n",
    "    TTTC = TW.count('台東市') ; TTT = TW.count('台東縣') ; PEH = TW.count('澎湖縣') ; \n",
    "    OTH = TW.count('境外移入') ; T320 = TW.count('中壢區') ; T324 = TW.count('平鎮區') ;\n",
    "    T325 = TW.count('龍潭區') ; T326 = TW.count('楊梅區') ; T327 = TW.count('新屋區') ;\n",
    "    T328 = TW.count('觀音區') ; T330 = TW.count('桃園區') ; T333 = TW.count('龜山區') ;\n",
    "    T334 = TW.count('八德區') ; T335 = TW.count('大溪區') ; T336 = TW.count('復興區') ;\n",
    "    T337 = TW.count('大園區') ; T338 = TW.count('蘆竹區')\n",
    "    return KEL,NTPC,TPE,TYN,HSZC,HSZ,ZMIC,ZMI,TXG,CHWC,CHW,NTCC,NTC,YUN,CYIC,CYI,TNN,KHH,PIF,PIFC,ILAC,ILA,HUNC,HUN,TTTC,TTT,PEH,OTH,T320,T324,T325,T326,T327,T328,T330,T333,T334,T335,T336,T337,T338"
   ]
  },
  {
   "cell_type": "code",
   "execution_count": 8,
   "id": "f6f74e27",
   "metadata": {
    "ExecuteTime": {
     "end_time": "2021-12-26T09:51:46.722596Z",
     "start_time": "2021-12-26T09:51:44.986108Z"
    }
   },
   "outputs": [],
   "source": [
    "a = covid19CountryCity()"
   ]
  },
  {
   "cell_type": "code",
   "execution_count": 11,
   "id": "1098cbb5",
   "metadata": {
    "ExecuteTime": {
     "end_time": "2021-12-26T09:52:15.979808Z",
     "start_time": "2021-12-26T09:52:15.967073Z"
    }
   },
   "outputs": [
    {
     "ename": "AttributeError",
     "evalue": "'tuple' object has no attribute 'kel'",
     "output_type": "error",
     "traceback": [
      "\u001b[0;31m---------------------------------------------------------------------------\u001b[0m",
      "\u001b[0;31mAttributeError\u001b[0m                            Traceback (most recent call last)",
      "\u001b[0;32m<ipython-input-11-24e93f947594>\u001b[0m in \u001b[0;36m<module>\u001b[0;34m\u001b[0m\n\u001b[0;32m----> 1\u001b[0;31m \u001b[0ma\u001b[0m\u001b[0;34m.\u001b[0m\u001b[0mkel\u001b[0m\u001b[0;34m\u001b[0m\u001b[0;34m\u001b[0m\u001b[0m\n\u001b[0m",
      "\u001b[0;31mAttributeError\u001b[0m: 'tuple' object has no attribute 'kel'"
     ]
    }
   ],
   "source": [
    "a.kel"
   ]
  },
  {
   "cell_type": "code",
   "execution_count": null,
   "id": "7ccf1235",
   "metadata": {},
   "outputs": [],
   "source": []
  }
 ],
 "metadata": {
  "kernelspec": {
   "display_name": "Python 3",
   "language": "python",
   "name": "python3"
  },
  "language_info": {
   "codemirror_mode": {
    "name": "ipython",
    "version": 3
   },
   "file_extension": ".py",
   "mimetype": "text/x-python",
   "name": "python",
   "nbconvert_exporter": "python",
   "pygments_lexer": "ipython3",
   "version": "3.6.13"
  },
  "toc": {
   "base_numbering": 1,
   "nav_menu": {},
   "number_sections": true,
   "sideBar": true,
   "skip_h1_title": false,
   "title_cell": "Table of Contents",
   "title_sidebar": "Contents",
   "toc_cell": false,
   "toc_position": {},
   "toc_section_display": true,
   "toc_window_display": false
  }
 },
 "nbformat": 4,
 "nbformat_minor": 5
}
