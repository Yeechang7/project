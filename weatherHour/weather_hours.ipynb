{
 "cells": [
  {
   "cell_type": "code",
   "execution_count": 1,
   "id": "677ce1c5",
   "metadata": {
    "ExecuteTime": {
     "end_time": "2021-12-20T00:51:01.595926Z",
     "start_time": "2021-12-20T00:50:46.788493Z"
    },
    "scrolled": true
   },
   "outputs": [
    {
     "name": "stdout",
     "output_type": "stream",
     "text": [
      "地區：大園區 , 時間：2021/12/20 08:50 , 溫度：19 , 濕度：72 , 降雨機率：7\n",
      "資料轉換成功\n",
      "地區：桃園區 , 時間：2021/12/20 08:50 , 溫度：19 , 濕度：74 , 降雨機率：14\n",
      "資料轉換成功\n",
      "地區：觀音區 , 時間：2021/12/20 08:50 , 溫度：19 , 濕度：72 , 降雨機率：8\n",
      "資料轉換成功\n",
      "地區：平鎮區 , 時間：2021/12/20 08:50 , 溫度：18 , 濕度：75 , 降雨機率：24\n",
      "資料轉換成功\n",
      "地區：龍潭區 , 時間：2021/12/20 08:50 , 溫度：18 , 濕度：72 , 降雨機率：41\n",
      "資料轉換成功\n",
      "地區：中壢區 , 時間：2021/12/20 08:50 , 溫度：18 , 濕度：74 , 降雨機率：20\n",
      "資料轉換成功\n",
      "資料筆數 : 468\n"
     ]
    }
   ],
   "source": [
    "import requests\n",
    "import pandas as pd\n",
    "from bs4 import BeautifulSoup\n",
    "import time\n",
    "import pymysql\n",
    "\n",
    "'''\n",
    "loc1 = 大園區\n",
    "loc2 = 桃園區\n",
    "loc3 = 觀音區\n",
    "loc4 = 平鎮區\n",
    "loc5 = 龍潭區\n",
    "loc6 = 中壢區\n",
    "'''\n",
    "# 各站點資訊\n",
    "loc_dict = {'loc1':'e8fcf1233159a2bf6d5628d7242379b2d102ae9f7ab86c5af10e9754d2043955',\n",
    "'loc2':'2063dc93d721d794396441c2473f2d3e6e5b335903034198829e1e86eb9e83e0', \n",
    "'loc3':'31db554b69ded55ded416d34f7f8e9845f60a4a7c139f73b2e65b1592a13988b',\n",
    "'loc4':'3c45ef1549c42db5a6908f760ceab0619d21487c88a133ffe6e4332bff1588a1', \n",
    "'loc5':'adff3d6961c3ca9833a8b72fdf2587b20a0efa40b22b5ce1134f98982cf13dcc',\n",
    "'loc6':'0005d4c25ae305606e1095778b12d1224780ea0bed47dd95e90983daf35cac1e'}\n",
    "\n",
    "weatherDataHours = []\n",
    "for locs in loc_dict.values():\n",
    "    url = f'https://weather.com/zh-TW/weather/hourbyhour/l/{locs}'\n",
    "    header = {'user-agent': 'Mozilla/5.0 (Macintosh; Intel Mac OS X 10_15_7) AppleWebKit/537.36 (KHTML, like Gecko) Chrome/96.0.4664.93 Safari/537.36'}\n",
    "    res = requests.get(url, headers=header)\n",
    "    soup = BeautifulSoup(res.text, 'html.parser')\n",
    "    loc = soup.select_one('.LocationPageTitle--PresentationName--1QYny').text.split(', ')[0]\n",
    "    # dateTime = soup.select_one('.DetailsSummary--daypartName--2FBp2').text\n",
    "    times = time.strftime(\"%Y/%m/%d %H:%M\", time.localtime())\n",
    "    temp = soup.select('.DetailsTable--value--1q_qD')[0].text.split('°')[0]\n",
    "    hum = soup.select('.DetailsTable--value--1q_qD')[2].text.split('%')[0]\n",
    "    rain = soup.select('.DetailsSummary--precip--1ecIJ')[0].text.split('Rain')[1].split('%')[0]\n",
    "    print(f'地區：{loc} , 時間：{times} , 溫度：{temp} , 濕度：{hum} , 降雨機率：{rain}')\n",
    "    weather2tuple = tuple([loc,times,temp,hum,rain])\n",
    "    weatherDataHours.append(weather2tuple)\n",
    "    print('資料轉換成功')\n",
    "    \n",
    "insert = 'insert into weather_hours (loc,tm,temp,hum,rain) values (%s,%s,%s,%s,%s)'\n",
    "table = 'weather_hours'\n",
    "\n",
    "def Mysql_insert(sql_insert, table, data):\n",
    "    import pymysql\n",
    "    config = {\n",
    "        \"host\":\"mqtt2.tibame.cloud\",\n",
    "        \"port\":3306,\n",
    "        \"user\":\"yi\",\n",
    "        \"passwd\":\"yi\",\n",
    "        \"db\":\"weather\",\n",
    "        \"charset\":\"utf8mb4\"\n",
    "    }\n",
    "\n",
    "    conn = pymysql.connect(**config)  ## **會將字典型態轉變(kwargs)\n",
    "    cursor = conn.cursor()\n",
    "    cursor.execute(\"select * from {}\".format(table))\n",
    "    cursor.executemany(sql_insert, data)\n",
    "    conn.commit()\n",
    "    print('資料筆數 :', cursor.execute(\"select * from {}\".format(table)))\n",
    "\n",
    "    # 關閉連線\n",
    "    cursor.close()\n",
    "    conn.close()\n",
    "\n",
    "Mysql_insert(insert, table, weatherDataHours)"
   ]
  },
  {
   "cell_type": "code",
   "execution_count": null,
   "id": "053f4d49",
   "metadata": {},
   "outputs": [],
   "source": []
  }
 ],
 "metadata": {
  "kernelspec": {
   "display_name": "Python 3",
   "language": "python",
   "name": "python3"
  },
  "language_info": {
   "codemirror_mode": {
    "name": "ipython",
    "version": 3
   },
   "file_extension": ".py",
   "mimetype": "text/x-python",
   "name": "python",
   "nbconvert_exporter": "python",
   "pygments_lexer": "ipython3",
   "version": "3.6.13"
  },
  "toc": {
   "base_numbering": 1,
   "nav_menu": {},
   "number_sections": true,
   "sideBar": true,
   "skip_h1_title": false,
   "title_cell": "Table of Contents",
   "title_sidebar": "Contents",
   "toc_cell": false,
   "toc_position": {},
   "toc_section_display": true,
   "toc_window_display": false
  }
 },
 "nbformat": 4,
 "nbformat_minor": 5
}
