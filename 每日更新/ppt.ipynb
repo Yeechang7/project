{
 "cells": [
  {
   "cell_type": "code",
   "execution_count": 114,
   "id": "8c1d8940",
   "metadata": {
    "ExecuteTime": {
     "end_time": "2021-12-28T09:56:02.507575Z",
     "start_time": "2021-12-28T09:56:02.487601Z"
    }
   },
   "outputs": [
    {
     "ename": "SyntaxError",
     "evalue": "unexpected EOF while parsing (<ipython-input-114-587f5c05e8b1>, line 36)",
     "output_type": "error",
     "traceback": [
      "\u001b[0;36m  File \u001b[0;32m\"<ipython-input-114-587f5c05e8b1>\"\u001b[0;36m, line \u001b[0;32m36\u001b[0m\n\u001b[0;31m    print('='*60)\u001b[0m\n\u001b[0m                 ^\u001b[0m\n\u001b[0;31mSyntaxError\u001b[0m\u001b[0;31m:\u001b[0m unexpected EOF while parsing\n"
     ]
    }
   ],
   "source": [
    "import requests\n",
    "from bs4 import BeautifulSoup\n",
    "import os\n",
    "\n",
    "if not os.path.exists('./pttMovie'):\n",
    "    os.mkdir('./pttMovie')\n",
    "url = 'https://www.ptt.cc/bbs/Gossiping/index.html'\n",
    "\n",
    "userAgent = 'Mozilla/5.0 (Windows NT 10.0; Win64; x64) AppleWebKit/537.36 (KHTML, like Gecko) Chrome/95.0.4638.54 Safari/537.36' # 宣告變數，接住身分\n",
    "headers = {\n",
    "    'user-agent':userAgent\n",
    "}\n",
    "ss = requests.session()\n",
    "ss.cookies['over18'] = '1'\n",
    "res = ss.get(url, headers=headers)\n",
    "soup = BeautifulSoup(res.text, 'html.parser')\n",
    "for i in range(0,20):\n",
    "    try:\n",
    "        pUrl = 'https://www.ptt.cc/' + soup.select('div[class=\"title\"] a')[i]['href']\n",
    "        resContent = ss.get(pUrl, headers=headers)\n",
    "        soupContent = BeautifulSoup(resContent.text, 'html.parser')\n",
    "        title = soupContent.select('span[class=\"article-meta-value\"]')[2].text\n",
    "        content = soupContent.select('div[id=\"main-content\"]')[0].text.split('※ 發信站')[0].strip()\n",
    "        try:\n",
    "            with open('./pttMovie/{}.txt'.format(title), 'w', encoding='utf-8') as f:\n",
    "                f.write(articleContent)\n",
    "        except FileNotFoundError:\n",
    "            with open('./pttMovie/{}.txt'.format(title.replace('/', '-')), 'w', encoding='utf-8') as f:\n",
    "                f.write(articleContent)\n",
    "        except OSError:\n",
    "            pass\n",
    "        except:\n",
    "            pass\n",
    "        print(title)\n",
    "        print(pUrl)\n",
    "        print('='*60)\n"
   ]
  },
  {
   "cell_type": "code",
   "execution_count": 113,
   "id": "ae1c3b22",
   "metadata": {
    "ExecuteTime": {
     "end_time": "2021-12-28T09:51:51.491305Z",
     "start_time": "2021-12-28T09:51:46.100586Z"
    }
   },
   "outputs": [
    {
     "name": "stdout",
     "output_type": "stream",
     "text": [
      "[問卦] 一堆平台為什麼時間都顯示幾週幾週的\n",
      "https://www.ptt.cc//bbs/Gossiping/M.1640683667.A.125.html\n",
      "============================================================\n",
      "[新聞] 遭黃國昌怒罵後認了 台鐵最美區間車營運\n",
      "https://www.ptt.cc//bbs/Gossiping/M.1640683689.A.B66.html\n",
      "============================================================\n",
      "[問卦] 你們會逛路邊特賣會嗎\n",
      "https://www.ptt.cc//bbs/Gossiping/M.1640683693.A.4E2.html\n",
      "============================================================\n",
      "Re: [新聞] 獨家》盜版安博盒子全斷訊！新北地檢署向\n",
      "https://www.ptt.cc//bbs/Gossiping/M.1640683697.A.3C0.html\n",
      "============================================================\n",
      "[問卦] 有沒有推廌生日一個人該吃什麼的八卦\n",
      "https://www.ptt.cc//bbs/Gossiping/M.1640683708.A.DBE.html\n",
      "============================================================\n",
      "Re: [問卦] 酒到底有什麼好喝\n",
      "https://www.ptt.cc//bbs/Gossiping/M.1640683714.A.CF0.html\n",
      "============================================================\n",
      "[問卦] 黑化奇異博士是不是就是卑鄙源之助\n",
      "https://www.ptt.cc//bbs/Gossiping/M.1640683762.A.4AC.html\n",
      "============================================================\n",
      "Re: [新聞] 民眾黨布局北市議員每區一席！3選區均僅\n",
      "https://www.ptt.cc//bbs/Gossiping/M.1640683819.A.B65.html\n",
      "============================================================\n",
      "Re: [問卦] 酒到底有什麼好喝\n",
      "https://www.ptt.cc//bbs/Gossiping/M.1640684002.A.E54.html\n",
      "============================================================\n",
      "[新聞] 李將軍雕像底座藏百年時光膠囊 又一銅箱\n",
      "https://www.ptt.cc//bbs/Gossiping/M.1640684012.A.7E1.html\n",
      "============================================================\n",
      "[問卦] 交往普妹龍妹會比較體貼和省錢嗎？\n",
      "https://www.ptt.cc//bbs/Gossiping/M.1640684016.A.1D6.html\n",
      "============================================================\n",
      "[新聞] 蝦皮店到店「取消0元免運」元旦起收費！\n",
      "https://www.ptt.cc//bbs/Gossiping/M.1640684021.A.ECD.html\n",
      "============================================================\n",
      "[公告] 八卦板板規(2021.11.21)\n",
      "https://www.ptt.cc//bbs/Gossiping/M.1637425085.A.07D.html\n",
      "============================================================\n",
      "[公告]  聖誕夜單人用餐大亂鬥2.0活動投票發錢\n",
      "https://www.ptt.cc//bbs/Gossiping/M.1640459487.A.F95.html\n",
      "============================================================\n",
      "[協尋] 12/18 10點多 行車記錄器\n",
      "https://www.ptt.cc//bbs/Gossiping/M.1640391804.A.85B.html\n",
      "============================================================\n",
      "[協尋]  12/26 21：15左右深坑平埔街行車記錄器\n",
      "https://www.ptt.cc//bbs/Gossiping/M.1640611057.A.522.html\n",
      "============================================================\n"
     ]
    }
   ],
   "source": [
    "for i in range(0,20):\n",
    "    try:\n",
    "        pUrl = 'https://www.ptt.cc/' + soup.select('div[class=\"title\"] a')[i]['href']\n",
    "        resContent = ss.get(pUrl, headers=headers)\n",
    "        soupContent = BeautifulSoup(resContent.text, 'html.parser')\n",
    "        title = soupContent.select('span[class=\"article-meta-value\"]')[2].text\n",
    "        content = soupContent.select('div[id=\"main-content\"]')[0].text.split('※ 發信站')[0].strip()\n",
    "        print(title)\n",
    "        print(pUrl)\n",
    "        print('='*60)\n",
    "    except:\n",
    "        pass"
   ]
  },
  {
   "cell_type": "code",
   "execution_count": 111,
   "id": "38b0cbcb",
   "metadata": {
    "ExecuteTime": {
     "end_time": "2021-12-28T09:49:56.181608Z",
     "start_time": "2021-12-28T09:49:56.166225Z"
    }
   },
   "outputs": [
    {
     "data": {
      "text/plain": [
       "'作者carrmkdh (奇犽)看板Gossiping標題[協尋]  12/26 21：15左右深坑平埔街行車記錄器時間Mon Dec 27 21:17:35 2021\\n\\n代po\\n朋友的朋友在欣欣客運路口發生車禍\\n希望有經過的鄉民能提供行車記錄器\\n謝謝\\n\\n日期：2021.12.26\\n時間：晚上21:15-21：22之間\\n車禍路段：平埔麻竹寮或平埔、文山路二段30巷\\n（欣欣客運總站路口）\\n此路段卻沒有監視器，在此懇求大家若有行車記錄器為這個時段經過，麻煩提供，謝謝\\n\\n-----\\nSent from JPTT on my Google Pixel 6.\\n\\n--'"
      ]
     },
     "execution_count": 111,
     "metadata": {},
     "output_type": "execute_result"
    }
   ],
   "source": [
    "title = soupContent.select('span[class=\"article-meta-value\"]')[2].text\n",
    "content = soupContent.select('div[id=\"main-content\"]')[0].text.split('※ 發信站')[0].strip()\n",
    "content"
   ]
  },
  {
   "cell_type": "code",
   "execution_count": null,
   "id": "b22c445b",
   "metadata": {},
   "outputs": [],
   "source": []
  }
 ],
 "metadata": {
  "kernelspec": {
   "display_name": "Python 3",
   "language": "python",
   "name": "python3"
  },
  "language_info": {
   "codemirror_mode": {
    "name": "ipython",
    "version": 3
   },
   "file_extension": ".py",
   "mimetype": "text/x-python",
   "name": "python",
   "nbconvert_exporter": "python",
   "pygments_lexer": "ipython3",
   "version": "3.6.13"
  },
  "toc": {
   "base_numbering": 1,
   "nav_menu": {},
   "number_sections": true,
   "sideBar": true,
   "skip_h1_title": false,
   "title_cell": "Table of Contents",
   "title_sidebar": "Contents",
   "toc_cell": false,
   "toc_position": {},
   "toc_section_display": true,
   "toc_window_display": false
  }
 },
 "nbformat": 4,
 "nbformat_minor": 5
}
