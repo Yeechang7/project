{
 "cells": [
  {
   "cell_type": "markdown",
   "id": "0315a034",
   "metadata": {},
   "source": [
    "# 操作SQL"
   ]
  },
  {
   "cell_type": "code",
   "execution_count": 1,
   "id": "ce18a743",
   "metadata": {
    "ExecuteTime": {
     "end_time": "2021-12-30T03:44:53.306147Z",
     "start_time": "2021-12-30T03:44:51.786816Z"
    }
   },
   "outputs": [
    {
     "name": "stdout",
     "output_type": "stream",
     "text": [
      "Database version : 10.7.1-MariaDB-1:10.7.1+maria~focal-log \n"
     ]
    }
   ],
   "source": [
    "import pymysql\n",
    "# 建立連線\n",
    "config = {\"host\": 127.0.0.1, \"port\": 3306, \"user\": \"yi\",\n",
    "          \"passwd\": \"yi\", \"db\": \"learn\", \"charset\": \"utf8mb4\"\n",
    "         }\n",
    "conn = pymysql.connect(**config)\n",
    "# 建立遊標, 查詢資料預設為元組型別\n",
    "cursor = conn.cursor()\n",
    "# 查詢SQL版本\n",
    "sql = 'SELECT VERSION()'\n",
    "# 用游標執行語法\n",
    "cursor.execute(sql)\n",
    "# 選取第一筆結果\n",
    "data = cursor.fetchone()\n",
    "print (\"Database version : %s \" % data)\n",
    "# --------------------------------------------------------\n",
    "# 操作完畢要commit 然後關閉游標 跟連線\n",
    "# --------------------------------------------------------\n",
    "# 提交，不然無法儲存新建或者修改的資料\n",
    "conn.commit()\n",
    "# 關閉遊標\n",
    "cursor.close()\n",
    "# 關閉連線\n",
    "conn.close()"
   ]
  },
  {
   "cell_type": "code",
   "execution_count": 2,
   "id": "ae628d40",
   "metadata": {
    "ExecuteTime": {
     "end_time": "2021-12-30T07:18:44.526367Z",
     "start_time": "2021-12-30T07:18:44.517265Z"
    }
   },
   "outputs": [
    {
     "ename": "SyntaxError",
     "evalue": "invalid syntax (<ipython-input-2-7880cc63aaf4>, line 3)",
     "output_type": "error",
     "traceback": [
      "\u001b[0;36m  File \u001b[0;32m\"<ipython-input-2-7880cc63aaf4>\"\u001b[0;36m, line \u001b[0;32m3\u001b[0m\n\u001b[0;31m    config = {\"host\": 127.0.0.1, \"port\": 3306, \"user\": \"yi\",\u001b[0m\n\u001b[0m                            ^\u001b[0m\n\u001b[0;31mSyntaxError\u001b[0m\u001b[0;31m:\u001b[0m invalid syntax\n"
     ]
    }
   ],
   "source": [
    "import pymysql\n",
    "# 建立連線\n",
    "config = {\"host\": 127.0.0.1, \"port\": 3306, \"user\": \"yi\",\n",
    "          \"passwd\": \"yi\", \"db\": \"learn\", \"charset\": \"utf8mb4\"\n",
    "         }\n",
    "conn = pymysql.connect(**config)"
   ]
  },
  {
   "cell_type": "code",
   "execution_count": null,
   "id": "b4172be8",
   "metadata": {},
   "outputs": [],
   "source": []
  }
 ],
 "metadata": {
  "kernelspec": {
   "display_name": "Python 3",
   "language": "python",
   "name": "python3"
  },
  "language_info": {
   "codemirror_mode": {
    "name": "ipython",
    "version": 3
   },
   "file_extension": ".py",
   "mimetype": "text/x-python",
   "name": "python",
   "nbconvert_exporter": "python",
   "pygments_lexer": "ipython3",
   "version": "3.6.13"
  },
  "toc": {
   "base_numbering": 1,
   "nav_menu": {},
   "number_sections": true,
   "sideBar": true,
   "skip_h1_title": false,
   "title_cell": "Table of Contents",
   "title_sidebar": "Contents",
   "toc_cell": false,
   "toc_position": {},
   "toc_section_display": true,
   "toc_window_display": false
  }
 },
 "nbformat": 4,
 "nbformat_minor": 5
}
