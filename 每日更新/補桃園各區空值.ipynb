{
 "cells": [
  {
   "cell_type": "code",
   "execution_count": 51,
   "id": "7444a776",
   "metadata": {
    "ExecuteTime": {
     "end_time": "2022-01-01T16:25:51.317837Z",
     "start_time": "2022-01-01T16:25:51.089687Z"
    }
   },
   "outputs": [],
   "source": [
    "import requests\n",
    "url = 'https://covid-19.nchc.org.tw/api/covid19?CK=covid-19@nchc.org.tw&querydata=5002&limited=全部縣市'\n",
    "res = requests.get(url)\n",
    "date = res.json()[0]['a01']\n",
    "covid19_Taiwan = []\n",
    "covid19_Foreign = []\n",
    "# for i in res.json():\n",
    "#     if (i[\"a03\"] == \"境外移入\") & (i[\"a04\"] == \"全區\") & (i[\"a01\"] >= date):\n",
    "#         data = (i[\"a01\"], int(i[\"a05\"]))\n",
    "#         covid19_Foreign.append(data)\n",
    "#         print(covid19_Foreign)\n",
    "        #=============================================================================\n",
    "        ## COVID19 - 變數介紹\n",
    "        #\"id\":\"ID\", \"a01\":\"個案研判日\", \"a02\":\"個案公佈日\", \"a03\":\"縣市別\"\n",
    "        #          \"a04\":\"區域\", \"a05\":\"新增確診人數\",\"a06\":\"累計確診人數\"}\n",
    "        #=============================================================================\n",
    "TYN = ['中壢區','龍潭區','新屋區','桃園區','八德區','復興區','蘆竹區','平鎮區','楊梅區','觀音區','龜山區','大溪區','大園區']\n",
    "for c in TYN:\n",
    "    dataT = [date, '桃園市', c, 0]\n",
    "    covid19_Taiwan.append(dataT)\n",
    "for i in res.json():\n",
    "    if (i[\"a03\"] != \"境外移入\") & (i[\"a04\"] != \"全區\") & (i[\"a01\"] >= date):\n",
    "        data = [i[\"a01\"], i[\"a03\"], i[\"a04\"], int(i[\"a05\"])]\n",
    "        covid19_Taiwan.append(data)\n",
    "\n",
    "\n",
    "\n",
    "\n"
   ]
  },
  {
   "cell_type": "code",
   "execution_count": 52,
   "id": "f3cf7813",
   "metadata": {
    "ExecuteTime": {
     "end_time": "2022-01-01T16:25:54.003345Z",
     "start_time": "2022-01-01T16:25:53.994726Z"
    }
   },
   "outputs": [
    {
     "data": {
      "text/plain": [
       "[['2021-12-31', '桃園市', '中壢區', 0],\n",
       " ['2021-12-31', '桃園市', '龍潭區', 0],\n",
       " ['2021-12-31', '桃園市', '新屋區', 0],\n",
       " ['2021-12-31', '桃園市', '桃園區', 0],\n",
       " ['2021-12-31', '桃園市', '八德區', 0],\n",
       " ['2021-12-31', '桃園市', '復興區', 0],\n",
       " ['2021-12-31', '桃園市', '蘆竹區', 0],\n",
       " ['2021-12-31', '桃園市', '平鎮區', 0],\n",
       " ['2021-12-31', '桃園市', '楊梅區', 0],\n",
       " ['2021-12-31', '桃園市', '觀音區', 0],\n",
       " ['2021-12-31', '桃園市', '龜山區', 0],\n",
       " ['2021-12-31', '桃園市', '大溪區', 0],\n",
       " ['2021-12-31', '桃園市', '大園區', 0]]"
      ]
     },
     "execution_count": 52,
     "metadata": {},
     "output_type": "execute_result"
    }
   ],
   "source": [
    "covid19_Taiwan"
   ]
  },
  {
   "cell_type": "code",
   "execution_count": 46,
   "id": "7871007a",
   "metadata": {
    "ExecuteTime": {
     "end_time": "2022-01-01T16:11:57.024759Z",
     "start_time": "2022-01-01T16:11:57.018084Z"
    }
   },
   "outputs": [],
   "source": []
  },
  {
   "cell_type": "code",
   "execution_count": 47,
   "id": "c89a4ec0",
   "metadata": {
    "ExecuteTime": {
     "end_time": "2022-01-01T16:11:58.884909Z",
     "start_time": "2022-01-01T16:11:58.879043Z"
    }
   },
   "outputs": [
    {
     "data": {
      "text/plain": [
       "[[0]]"
      ]
     },
     "execution_count": 47,
     "metadata": {},
     "output_type": "execute_result"
    }
   ],
   "source": [
    "db"
   ]
  },
  {
   "cell_type": "code",
   "execution_count": null,
   "id": "96612525",
   "metadata": {},
   "outputs": [],
   "source": []
  }
 ],
 "metadata": {
  "kernelspec": {
   "display_name": "Python 3",
   "language": "python",
   "name": "python3"
  },
  "language_info": {
   "codemirror_mode": {
    "name": "ipython",
    "version": 3
   },
   "file_extension": ".py",
   "mimetype": "text/x-python",
   "name": "python",
   "nbconvert_exporter": "python",
   "pygments_lexer": "ipython3",
   "version": "3.6.13"
  },
  "toc": {
   "base_numbering": 1,
   "nav_menu": {},
   "number_sections": true,
   "sideBar": true,
   "skip_h1_title": false,
   "title_cell": "Table of Contents",
   "title_sidebar": "Contents",
   "toc_cell": false,
   "toc_position": {},
   "toc_section_display": true,
   "toc_window_display": false
  }
 },
 "nbformat": 4,
 "nbformat_minor": 5
}
